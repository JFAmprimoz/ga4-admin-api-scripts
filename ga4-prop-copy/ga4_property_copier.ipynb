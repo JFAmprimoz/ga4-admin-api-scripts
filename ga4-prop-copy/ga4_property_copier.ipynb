{
 "cells": [
  {
   "cell_type": "markdown",
   "id": "16561229-2d08-4a21-85f2-6930a6308267",
   "metadata": {},
   "source": [
    "Manual setup is still required for:\n",
    "\n",
    "- Signals and Personalization\n",
    "- Enhanced Measurement\n",
    "- Cross-domain\n",
    "- Internal filters\n",
    "- ... and all tag settings\n",
    "- Created and Modified Events\n",
    "- Account Linking\n",
    "- Audiences, Comparisons, Segments, Attribution setting\n",
    "- Reporting Identity\n",
    "- Custom Channel Groups\n",
    "- Multiple Data Streams"
   ]
  },
  {
   "cell_type": "markdown",
   "id": "1319d372-ea6f-47bd-9197-1035290b7327",
   "metadata": {},
   "source": [
    "Using your prefered Python environment manager, install:\n",
    "\n",
    "- google-auth\n",
    "- google-analytics-admin\n",
    "\n",
    "Then, [install the gcloud CLI](https://cloud.google.com/sdk/docs/install)\n"
   ]
  },
  {
   "cell_type": "markdown",
   "id": "54122e3a-b6c2-4dd9-aa1f-ba42cd440ae4",
   "metadata": {},
   "source": [
    "To set up Auth, run the following at terminal after installing gcloud cli:\n",
    "\n",
    "gcloud auth application-default login --scopes=https://www.googleapis.com/auth/analytics.edit,https://www.googleapis.com/auth/analytics.readonly,https://www.googleapis.com/auth/cloud-platform "
   ]
  },
  {
   "cell_type": "code",
   "execution_count": null,
   "id": "49ffae4c-eb8e-4e66-98f6-a92346f06c2d",
   "metadata": {},
   "outputs": [],
   "source": [
    "import google.analytics.admin as gaa\n",
    "import google.auth\n",
    "from google.protobuf import field_mask_pb2\n",
    "from google.rpc import error_details_pb2\n",
    "import grpc\n",
    "from grpc_status import rpc_status\n",
    "import datetime"
   ]
  },
  {
   "cell_type": "code",
   "execution_count": null,
   "id": "8eaf0810-a8b5-4be7-baec-082375c1f257",
   "metadata": {},
   "outputs": [],
   "source": [
    "# authenticate and create client\n",
    "\n",
    "credentials, project = google.auth.default(\n",
    "    scopes=[\n",
    "        \"https://www.googleapis.com/auth/analytics.edit\",\n",
    "        \"https://www.googleapis.com/auth/analytics.readonly\",\n",
    "    ]\n",
    ")\n",
    "\n",
    "# Using a default constructor instructs the client to use the credentials\n",
    "# specified in GOOGLE_APPLICATION_CREDENTIALS environment variable.\n",
    "client = gaa.AnalyticsAdminServiceClient()"
   ]
  },
  {
   "cell_type": "code",
   "execution_count": null,
   "id": "ccd03c3e-399f-46d8-9405-09f675fc88ed",
   "metadata": {},
   "outputs": [],
   "source": [
    "# set configuration constants\n",
    "# SOURCE_ACCOUNT_ID =\n",
    "SOURCE_PROPERTY_ID = \"XXXXXXXXX\"\n",
    "TARGET_ACCOUNT_ID = \"32728166\"\n",
    "TARGET_DISPLAY_NAME = \"UAT BLG Website - GA4\"\n",
    "\n",
    "# Turn IDs into expected name strings\n",
    "\n",
    "# source_acc_name = \n",
    "source_prop_name = \"properties/\" + SOURCE_PROPERTY_ID\n",
    "target_acc_name = \"accounts/\" + TARGET_ACCOUNT_ID"
   ]
  },
  {
   "cell_type": "code",
   "execution_count": null,
   "id": "e6749ced-de19-45cf-9944-88e03600610d",
   "metadata": {},
   "outputs": [],
   "source": [
    "# Get source property\n",
    "\n",
    "request = gaa.GetPropertyRequest(name=source_prop_name)\n",
    "source_property = client.get_property(request=request)\n",
    "source_property"
   ]
  },
  {
   "cell_type": "code",
   "execution_count": null,
   "id": "8677363b-906f-4f03-9505-bad3f19540cc",
   "metadata": {},
   "outputs": [],
   "source": [
    "# create a template to copy by removing output only params from a copy of the property object\n",
    "\n",
    "property_template = source_property\n",
    "del property_template.name\n",
    "del property_template.create_time\n",
    "del property_template.update_time\n",
    "del property_template.service_level\n",
    "property_template.display_name = TARGET_DISPLAY_NAME\n",
    "property_template"
   ]
  },
  {
   "cell_type": "code",
   "execution_count": null,
   "id": "2d8be105-7283-4a39-abff-24fe0174eeed",
   "metadata": {},
   "outputs": [],
   "source": [
    "# Create new property and store its name\n",
    "request = gaa.CreatePropertyRequest(property = property_template)\n",
    "response = client.create_property(request=request)\n",
    "\n",
    "target_prop_name = response.name\n",
    "\n",
    "response"
   ]
  },
  {
   "cell_type": "code",
   "execution_count": null,
   "id": "acadec05-0935-4582-917e-4c0ac4d62fab",
   "metadata": {},
   "outputs": [],
   "source": [
    "# set data retention settings to 14 months (not copy)\n",
    " \n",
    "data_retention_settings = gaa.DataRetentionSettings()\n",
    "data_retention_settings.name = target_prop_name + \"/dataRetentionSettings\"\n",
    "data_retention_settings.event_data_retention = \"FOURTEEN_MONTHS\"\n",
    "data_retention_settings.user_data_retention = \"FOURTEEN_MONTHS\"\n",
    "data_retention_settings.reset_user_data_on_new_activity = True\n",
    "\n",
    "request = gaa.UpdateDataRetentionSettingsRequest(\n",
    "    data_retention_settings = data_retention_settings,\n",
    "    update_mask = field_mask_pb2.FieldMask(paths=[\"*\"]),\n",
    ")\n",
    "\n",
    "update_retention = client.update_data_retention_settings(request=request)\n",
    "update_retention\n"
   ]
  },
  {
   "cell_type": "code",
   "execution_count": null,
   "id": "875dbc8e-bf18-4c2b-917c-0145d4b607cd",
   "metadata": {},
   "outputs": [],
   "source": [
    "# list datastreams\n",
    "\n",
    "request = gaa.ListDataStreamsRequest(parent = source_prop_name)\n",
    "source_data_streams = client.list_data_streams(request=request)\n",
    "source_data_streams"
   ]
  },
  {
   "cell_type": "code",
   "execution_count": null,
   "id": "6ff8a7bd-8e3d-44ab-843d-5ddbcd0bc256",
   "metadata": {},
   "outputs": [],
   "source": [
    "# grab last data stream (script currently works only for single stream properties).\n",
    "for data_stream in source_data_streams:\n",
    "    source_data_stream = data_stream\n",
    "\n",
    "# create a template to copy by removing output only params from and adding the parent attributed to a copy of the data stream object\n",
    "data_stream_template = source_data_stream\n",
    "del data_stream_template.name\n",
    "del data_stream_template.create_time\n",
    "del data_stream_template.update_time\n",
    "del data_stream_template.web_stream_data.measurement_id\n",
    "data_stream_template"
   ]
  },
  {
   "cell_type": "code",
   "execution_count": null,
   "id": "5237771c-1cea-499b-a81d-05189c062047",
   "metadata": {},
   "outputs": [],
   "source": [
    "# Create new data stream\n",
    "request = gaa.CreateDataStreamRequest(\n",
    "    data_stream = data_stream_template,\n",
    "    parent = target_prop_name, \n",
    ")\n",
    "response = client.create_data_stream(request=request)\n",
    "\n",
    "response"
   ]
  },
  {
   "cell_type": "code",
   "execution_count": null,
   "id": "d74a9e0c-9122-44d0-a4dc-c61866cd094b",
   "metadata": {},
   "outputs": [],
   "source": [
    "# retrieve custom dimensions\n",
    "request = gaa.ListCustomDimensionsRequest(parent = source_prop_name)\n",
    "source_cds = client.list_custom_dimensions(request=request)\n",
    "source_cds"
   ]
  },
  {
   "cell_type": "code",
   "execution_count": null,
   "id": "e711671d-2571-4e34-88b8-7c7ec642529e",
   "metadata": {},
   "outputs": [],
   "source": [
    "# loop through source custom dims and create copy in target for each\n",
    "\n",
    "for source_cd in source_cds:\n",
    "    # make target object into template by removing output only elements\n",
    "    template_cd = source_cd\n",
    "    del template_cd.name\n",
    "\n",
    "    request = gaa.CreateCustomDimensionRequest(\n",
    "        custom_dimension = template_cd,\n",
    "        parent = target_prop_name, \n",
    "    )\n",
    "    response = client.create_custom_dimension(request=request)\n",
    "\n",
    "    print(response)"
   ]
  },
  {
   "cell_type": "code",
   "execution_count": null,
   "id": "7452a04c-28da-4ae1-8578-951e7669b0a3",
   "metadata": {},
   "outputs": [],
   "source": [
    "# retrieve custom metrics\n",
    "request = gaa.ListCustomMetricsRequest(parent = source_prop_name)\n",
    "source_cms = client.list_custom_metrics(request=request)\n",
    "source_cms"
   ]
  },
  {
   "cell_type": "code",
   "execution_count": null,
   "id": "0cffb944-903f-4067-a0e1-edff9cc8a27a",
   "metadata": {},
   "outputs": [],
   "source": [
    "# loop through source custom mets and create copy in target for each\n",
    "\n",
    "for source_cm in source_cms:\n",
    "    # make target object into template by removing output only elements\n",
    "    template_cm = source_cm\n",
    "    del template_cm.name\n",
    "\n",
    "    request = gaa.CreateCustomMetricRequest(\n",
    "        custom_metric = template_cm,\n",
    "        parent = target_prop_name, \n",
    "    )\n",
    "    response = client.create_custom_metric(request=request)\n",
    "\n",
    "    print(response)"
   ]
  },
  {
   "cell_type": "code",
   "execution_count": null,
   "id": "53b0b70d-7d00-40f8-8f50-c6374a319052",
   "metadata": {},
   "outputs": [],
   "source": [
    "# retrieve key events\n",
    "request = gaa.ListKeyEventsRequest(parent = source_prop_name)\n",
    "source_kes = client.list_key_events(request=request)\n",
    "source_kes"
   ]
  },
  {
   "cell_type": "code",
   "execution_count": null,
   "id": "b2770456-7179-4502-a0fc-186ac18218fe",
   "metadata": {},
   "outputs": [],
   "source": [
    "# loop through source key events and create copy in target for each\n",
    "\n",
    "for source_ke in source_kes:\n",
    "    # make target object into template by removing output only elements\n",
    "    template_ke = source_ke\n",
    "    del template_ke.name\n",
    "    del template_ke.create_time\n",
    "    del template_ke.deletable\n",
    "    del template_ke.custom\n",
    "\n",
    "    request = gaa.CreateKeyEventRequest(\n",
    "        key_event = template_ke,\n",
    "        parent = target_prop_name, \n",
    "    )\n",
    "    try:\n",
    "        new_key_event = client.create_key_event(request=request)\n",
    "    except Exception as error:\n",
    "        if error.message == \"Requested entity already exists\":\n",
    "            print(error.message + \". Proceding with next entity.\")\n",
    "            pass\n",
    "        else:\n",
    "            print(error)\n",
    "            break\n",
    "\n",
    "    print(new_key_event)"
   ]
  }
 ],
 "metadata": {
  "kernelspec": {
   "display_name": "Python 3 (ipykernel)",
   "language": "python",
   "name": "python3"
  },
  "language_info": {
   "codemirror_mode": {
    "name": "ipython",
    "version": 3
   },
   "file_extension": ".py",
   "mimetype": "text/x-python",
   "name": "python",
   "nbconvert_exporter": "python",
   "pygments_lexer": "ipython3",
   "version": "3.13.1"
  }
 },
 "nbformat": 4,
 "nbformat_minor": 5
}
